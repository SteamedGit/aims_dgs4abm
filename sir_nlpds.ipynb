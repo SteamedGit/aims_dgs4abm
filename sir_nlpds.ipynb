{
 "cells": [
  {
   "cell_type": "code",
   "execution_count": 1,
   "metadata": {},
   "outputs": [
    {
     "name": "stderr",
     "output_type": "stream",
     "text": [
      "/home/tim/Documents/thesis/dgs4abm/.venv/lib64/python3.12/site-packages/tqdm/auto.py:21: TqdmWarning: IProgress not found. Please update jupyter and ipywidgets. See https://ipywidgets.readthedocs.io/en/stable/user_install.html\n",
      "  from .autonotebook import tqdm as notebook_tqdm\n"
     ]
    }
   ],
   "source": [
    "import os\n",
    "os.environ['JAX_PLATFORM_NAME'] = 'cpu'\n",
    "from inference.spatial_compartmental.viz import  posterior_comparison, post_prediction_comparison\n",
    "import jax\n",
    "jax.config.update(\"jax_enable_x64\", True) #64 bit precision calcs\n",
    "jax.config.update('jax_platform_name', 'cpu')\n",
    "import jax.numpy as jnp\n",
    "import numpy as np\n",
    "import matplotlib.pyplot as plt\n",
    "import seaborn as sns\n",
    "import gc\n",
    "from abm.spatial_compartmental.sir import get_abm\n",
    "from abm.spatial_compartmental.utils import Neighbourhood, calc_start_n_initial\n",
    "import pickle\n",
    "import arviz as az\n",
    "import pandas as pd"
   ]
  },
  {
   "cell_type": "code",
   "execution_count": 22,
   "metadata": {},
   "outputs": [],
   "source": [
    "def vectorized_abm_state_counts(abm_grids_batch):\n",
    "    \"\"\"\n",
    "    Calculates state counts for a batch of ABM grids using JAX.\n",
    "\n",
    "    Args:\n",
    "        abm_grids_batch (jnp.ndarray): An array of shape (batch_size, steps, 3, H, W)\n",
    "                                       representing all grids at a single time step.\n",
    "\n",
    "    Returns:\n",
    "        dict: A dictionary where keys are state names (str) and values are\n",
    "              JAX arrays (shape (batch_size,)) containing the counts of that\n",
    "              state for each grid in the batch.\n",
    "    \"\"\"\n",
    "    counts = {}\n",
    "    # Susceptible: (layer0==0) & (layer1==1) & (layer2==0)\n",
    "    counts[\"Susceptible\"] = jnp.sum(\n",
    "        (abm_grids_batch[:, :, 0, :, :] == 0)\n",
    "        & (abm_grids_batch[:, :, 1, :, :] == 1)\n",
    "        & (abm_grids_batch[:, :, 2, :, :] == 0),\n",
    "        axis=(2, 3),\n",
    "    ).astype(jnp.int32)\n",
    "\n",
    "    # Infected: (layer0==1) & (layer1==0) & (layer2==0)\n",
    "    counts[\"Infected\"] = jnp.sum(\n",
    "        (abm_grids_batch[:, :, 0, :, :] == 1)\n",
    "        & (abm_grids_batch[:, :, 1, :, :] == 0)\n",
    "        & (abm_grids_batch[:, :, 2, :, :] == 0),\n",
    "        axis=(2, 3),\n",
    "    ).astype(jnp.int32)\n",
    "\n",
    "    # Recovered: (layer0==0) & (layer1==0) & (layer2==1)\n",
    "    counts[\"Recovered\"] = jnp.sum(\n",
    "        (abm_grids_batch[:, :, 0, :, :] == 0)\n",
    "        & (abm_grids_batch[:, :, 1, :, :] == 0)\n",
    "        & (abm_grids_batch[:, :, 2, :, :] == 1),\n",
    "        axis=(2, 3),\n",
    "    ).astype(jnp.int32)\n",
    "    return counts"
   ]
  },
  {
   "cell_type": "code",
   "execution_count": 47,
   "metadata": {},
   "outputs": [],
   "source": [
    "#NOTE: Requires 64-bit precision\n",
    "def calculate_NLPD(key, abm_conf, posterior_preds, grid_size, num_steps):\n",
    "    key, subkey = jax.random.split(key)\n",
    "    kde_est =jax.scipy.stats.gaussian_kde(posterior_preds.T+1e-6*jax.random.normal(subkey, \n",
    "                                                                                   (num_steps*2, posterior_preds.shape[0])))\n",
    "    abm = get_abm(Neighbourhood.VONNEUMANN, vmap=True)\n",
    "    multi_grid_timeseries = abm(jax.random.split(key,posterior_preds.shape[0]), \n",
    "            grid_size,\n",
    "            num_steps,\n",
    "            abm_conf[0],\n",
    "            abm_conf[1],\n",
    "            abm_conf[2],\n",
    "            abm_conf[3],\n",
    "            calc_start_n_initial(abm_conf[4], grid_size),\n",
    "            calc_start_n_initial(abm_conf[5], grid_size),\n",
    "            calc_start_n_initial(abm_conf[6], grid_size))\n",
    "    state_count_timeseries = vectorized_abm_state_counts(multi_grid_timeseries)\n",
    "    #state_count_timeseries['Susceptible'][:,1:],\n",
    "    ground_truth_observations = jnp.concatenate(( state_count_timeseries['Infected'][:,1:],\n",
    "                                                 state_count_timeseries['Recovered'][:,1:]),axis=1)\n",
    "\n",
    "    log_densities = kde_est.logpdf(ground_truth_observations.astype(jnp.float64).T)\n",
    "    #print(log_densities)\n",
    "    averaged_nlpd = -np.mean(log_densities)\n",
    "\n",
    "    if jnp.isnan(averaged_nlpd).any():\n",
    "        raise ValueError(f'NLPD for {abm_conf} contains NaNs')\n",
    "    return averaged_nlpd"
   ]
  },
  {
   "cell_type": "markdown",
   "metadata": {},
   "source": [
    "# ABM NLPDS"
   ]
  },
  {
   "cell_type": "code",
   "execution_count": null,
   "metadata": {},
   "outputs": [],
   "source": [
    "# These are all cat(infected,recovered)\n",
    "\n",
    "\n",
    "with open('inference_outputs/2025-06-12/07-45-52/post_predictions.npy','rb') as f:\n",
    "    abm_a = jnp.load(f, allow_pickle=True).item()\n",
    "\n",
    "with open('inference_outputs/2025-06-12/07-52-12/post_predictions.npy','rb') as f:\n",
    "    abm_b = jnp.load(f, allow_pickle=True).item()\n",
    "\n",
    "with open('inference_outputs/2025-06-12/07-54-50/post_predictions.npy','rb') as f:\n",
    "    abm_c = jnp.load(f, allow_pickle=True).item()"
   ]
  },
  {
   "cell_type": "code",
   "execution_count": 49,
   "metadata": {},
   "outputs": [
    {
     "name": "stdout",
     "output_type": "stream",
     "text": [
      "ABM A NLPD: 1.217e+02\n",
      "ABM B NLPD: NaN\n",
      "ABM C NLPD: 1.576e+02\n"
     ]
    }
   ],
   "source": [
    "for idx,(name,abm_dict) in enumerate(zip(['A','B','C'],[abm_a, abm_b, abm_c])):\n",
    "\n",
    "    abm_preds = list(abm_dict.values())[0]['obs']\n",
    "    #infect_preds, rec_preds = jnp.split(abm_preds,2, axis=1)\n",
    "    #suscep_preds = 100 - infect_preds - rec_preds\n",
    "    \n",
    "    #abm_preds = jnp.concat((suscep_preds, infect_preds, rec_preds),axis=1)\n",
    "\n",
    "    abm_preds=jax.random.choice(jax.random.fold_in(jax.random.key(72),idx), abm_preds, \n",
    "                                shape=(1000,), replace=False)\n",
    "\n",
    "    try:\n",
    "        nlpd = calculate_NLPD(jax.random.fold_in(jax.random.key(1337),idx),\n",
    "                          list(abm_dict.keys())[0],\n",
    "                          abm_preds,10, 30)\n",
    "        print(f'ABM {name} NLPD: {nlpd:.3e}')\n",
    "    except:\n",
    "        print(f'ABM {name} NLPD: NaN')"
   ]
  },
  {
   "cell_type": "markdown",
   "metadata": {},
   "source": [
    "## MCMLP NLPDS"
   ]
  },
  {
   "cell_type": "code",
   "execution_count": null,
   "metadata": {},
   "outputs": [],
   "source": [
    "\n",
    "with open('inference_outputs/2025-06-12/07-30-02/post_predictions.npy','rb') as f:\n",
    "    mcmlp_a = jnp.load(f, allow_pickle=True).item()\n",
    "\n",
    "with open('inference_outputs/2025-06-12/07-35-35/post_predictions.npy','rb') as f:\n",
    "    mcmlp_b = jnp.load(f, allow_pickle=True).item()\n",
    "\n",
    "with open('inference_outputs/2025-06-12/07-36-23/post_predictions.npy','rb') as f:\n",
    "    mcmlp_c = jnp.load(f, allow_pickle=True).item()"
   ]
  },
  {
   "cell_type": "code",
   "execution_count": 51,
   "metadata": {},
   "outputs": [
    {
     "name": "stdout",
     "output_type": "stream",
     "text": [
      "MCMLP A NLPD: 3.631e+03\n",
      "MCMLP B NLPD: 3.308e+03\n",
      "MCMLP C NLPD: 2.193e+03\n"
     ]
    }
   ],
   "source": [
    "for idx,(name,mcmlp_dict) in enumerate(zip(['A','B','C'],[mcmlp_a, mcmlp_b, mcmlp_c])):\n",
    "\n",
    "    mcmlp_preds = list(mcmlp_dict.values())[0]['obs']\n",
    "    suscep_preds,infect_preds, rec_preds = jnp.split(mcmlp_preds,3, axis=1)\n",
    "    \n",
    "    mcmlp_preds = jnp.concat((infect_preds, rec_preds),axis=1)\n",
    "\n",
    "    mcmlp_preds=jax.random.choice(jax.random.fold_in(jax.random.key(72),idx), mcmlp_preds, \n",
    "                                shape=(1000,), replace=False)\n",
    "\n",
    "    try:\n",
    "        nlpd = calculate_NLPD(jax.random.fold_in(jax.random.key(1337),idx),\n",
    "                          list(mcmlp_dict.keys())[0],\n",
    "                          mcmlp_preds,10, 30)\n",
    "        print(f'MCMLP {name} NLPD: {nlpd:.3e}')\n",
    "    except:\n",
    "        print(f'MCMLP {name} NLPD: NaN')"
   ]
  }
 ],
 "metadata": {
  "kernelspec": {
   "display_name": ".venv",
   "language": "python",
   "name": "python3"
  },
  "language_info": {
   "codemirror_mode": {
    "name": "ipython",
    "version": 3
   },
   "file_extension": ".py",
   "mimetype": "text/x-python",
   "name": "python",
   "nbconvert_exporter": "python",
   "pygments_lexer": "ipython3",
   "version": "3.12.9"
  }
 },
 "nbformat": 4,
 "nbformat_minor": 2
}
